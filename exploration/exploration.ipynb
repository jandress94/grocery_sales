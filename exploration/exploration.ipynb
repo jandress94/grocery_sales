{
 "cells": [
  {
   "cell_type": "code",
   "execution_count": 1,
   "metadata": {
    "_cell_guid": "96aaa4ae-93fa-4e61-9a27-eecce5d9bbbb",
    "_uuid": "ec98359e09136ae9f812915c8c7c1f339f48c01c"
   },
   "outputs": [
    {
     "name": "stdout",
     "output_type": "stream",
     "text": [
      "holidays_events.csv\n",
      "items.csv\n",
      "oil.csv\n",
      "sample_submission.csv\n",
      "stores.csv\n",
      "test.csv\n",
      "test_sample.csv\n",
      "train.csv\n",
      "train_sample.csv\n",
      "transactions.csv\n",
      "\n"
     ]
    }
   ],
   "source": [
    "# This Python 3 environment comes with many helpful analytics libraries installed\n",
    "# It is defined by the kaggle/python docker image: https://github.com/kaggle/docker-python\n",
    "# For example, here's several helpful packages to load in \n",
    "%matplotlib inline\n",
    "\n",
    "import numpy as np # linear algebra\n",
    "import pandas as pd # data processing, CSV file I/O (e.g. pd.read_csv)\n",
    "import matplotlib.pyplot as plt\n",
    "\n",
    "# Input data files are available in the \"../input/\" directory.\n",
    "# For example, running this (by clicking run or pressing Shift+Enter) will list the files in the input directory\n",
    "\n",
    "from subprocess import check_output\n",
    "print(check_output(\"ls ../input\", shell = True).decode(\"utf8\"))\n",
    "\n",
    "# Any results you write to the current directory are saved as output."
   ]
  },
  {
   "cell_type": "code",
   "execution_count": 2,
   "metadata": {},
   "outputs": [
    {
     "name": "stderr",
     "output_type": "stream",
     "text": [
      "/usr/local/lib/python2.7/dist-packages/IPython/core/interactiveshell.py:2718: DtypeWarning: Columns (5) have mixed types. Specify dtype option on import or set low_memory=False.\n",
      "  interactivity=interactivity, compiler=compiler, result=result)\n",
      "/usr/local/lib/python2.7/dist-packages/numpy/lib/arraysetops.py:463: FutureWarning: elementwise comparison failed; returning scalar instead, but in the future will perform elementwise comparison\n",
      "  mask |= (ar1 == a)\n"
     ]
    }
   ],
   "source": [
    "# load in the training data\n",
    "loadAll = True\n",
    "train_df = pd.read_csv('../input/train.csv', header = 0, index_col = 'id', \n",
    "                       parse_dates = ['date'], dtype = {'onpromotion': bool}, nrows = None if loadAll else 1000000)"
   ]
  },
  {
   "cell_type": "code",
   "execution_count": 3,
   "metadata": {},
   "outputs": [
    {
     "data": {
      "text/html": [
       "<div>\n",
       "<style scoped>\n",
       "    .dataframe tbody tr th:only-of-type {\n",
       "        vertical-align: middle;\n",
       "    }\n",
       "\n",
       "    .dataframe tbody tr th {\n",
       "        vertical-align: top;\n",
       "    }\n",
       "\n",
       "    .dataframe thead th {\n",
       "        text-align: right;\n",
       "    }\n",
       "</style>\n",
       "<table border=\"1\" class=\"dataframe\">\n",
       "  <thead>\n",
       "    <tr style=\"text-align: right;\">\n",
       "      <th></th>\n",
       "      <th>date</th>\n",
       "      <th>store_nbr</th>\n",
       "      <th>item_nbr</th>\n",
       "      <th>unit_sales</th>\n",
       "      <th>onpromotion</th>\n",
       "    </tr>\n",
       "    <tr>\n",
       "      <th>id</th>\n",
       "      <th></th>\n",
       "      <th></th>\n",
       "      <th></th>\n",
       "      <th></th>\n",
       "      <th></th>\n",
       "    </tr>\n",
       "  </thead>\n",
       "  <tbody>\n",
       "    <tr>\n",
       "      <th>0</th>\n",
       "      <td>2013-01-01</td>\n",
       "      <td>25</td>\n",
       "      <td>103665</td>\n",
       "      <td>7.0</td>\n",
       "      <td>NaN</td>\n",
       "    </tr>\n",
       "    <tr>\n",
       "      <th>1</th>\n",
       "      <td>2013-01-01</td>\n",
       "      <td>25</td>\n",
       "      <td>105574</td>\n",
       "      <td>1.0</td>\n",
       "      <td>NaN</td>\n",
       "    </tr>\n",
       "    <tr>\n",
       "      <th>2</th>\n",
       "      <td>2013-01-01</td>\n",
       "      <td>25</td>\n",
       "      <td>105575</td>\n",
       "      <td>2.0</td>\n",
       "      <td>NaN</td>\n",
       "    </tr>\n",
       "    <tr>\n",
       "      <th>3</th>\n",
       "      <td>2013-01-01</td>\n",
       "      <td>25</td>\n",
       "      <td>108079</td>\n",
       "      <td>1.0</td>\n",
       "      <td>NaN</td>\n",
       "    </tr>\n",
       "    <tr>\n",
       "      <th>4</th>\n",
       "      <td>2013-01-01</td>\n",
       "      <td>25</td>\n",
       "      <td>108701</td>\n",
       "      <td>1.0</td>\n",
       "      <td>NaN</td>\n",
       "    </tr>\n",
       "  </tbody>\n",
       "</table>\n",
       "</div>"
      ],
      "text/plain": [
       "         date  store_nbr  item_nbr  unit_sales onpromotion\n",
       "id                                                        \n",
       "0  2013-01-01         25    103665         7.0         NaN\n",
       "1  2013-01-01         25    105574         1.0         NaN\n",
       "2  2013-01-01         25    105575         2.0         NaN\n",
       "3  2013-01-01         25    108079         1.0         NaN\n",
       "4  2013-01-01         25    108701         1.0         NaN"
      ]
     },
     "execution_count": 3,
     "metadata": {},
     "output_type": "execute_result"
    }
   ],
   "source": [
    "# Take a look at the first few rows\n",
    "train_df.head(5)"
   ]
  },
  {
   "cell_type": "code",
   "execution_count": 4,
   "metadata": {},
   "outputs": [
    {
     "data": {
      "text/plain": [
       "125497040"
      ]
     },
     "execution_count": 4,
     "metadata": {},
     "output_type": "execute_result"
    }
   ],
   "source": [
    "# get the number of training examples\n",
    "len(train_df)"
   ]
  },
  {
   "cell_type": "code",
   "execution_count": 5,
   "metadata": {},
   "outputs": [
    {
     "data": {
      "text/plain": [
       "count    1.254970e+08\n",
       "mean     8.554865e+00\n",
       "std      2.360515e+01\n",
       "min     -1.537200e+04\n",
       "25%      2.000000e+00\n",
       "50%      4.000000e+00\n",
       "75%      9.000000e+00\n",
       "max      8.944000e+04\n",
       "Name: unit_sales, dtype: float64"
      ]
     },
     "execution_count": 5,
     "metadata": {},
     "output_type": "execute_result"
    }
   ],
   "source": [
    "# get some basic summary stats for the number of sales\n",
    "train_df['unit_sales'].describe()"
   ]
  },
  {
   "cell_type": "code",
   "execution_count": 6,
   "metadata": {},
   "outputs": [
    {
     "data": {
      "text/plain": [
       "7795"
      ]
     },
     "execution_count": 6,
     "metadata": {},
     "output_type": "execute_result"
    }
   ],
   "source": [
    "# we're told a negative unit_sales means items were returned.  Check how often that occurs\n",
    "len(train_df[train_df.unit_sales < 0])"
   ]
  },
  {
   "cell_type": "code",
   "execution_count": 7,
   "metadata": {},
   "outputs": [
    {
     "data": {
      "text/plain": [
       "<matplotlib.axes._subplots.AxesSubplot at 0x7fd3f46ea5d0>"
      ]
     },
     "execution_count": 7,
     "metadata": {},
     "output_type": "execute_result"
    },
    {
     "data": {
      "image/png": "[encoded data removed]",
      "text/plain": [
       "<matplotlib.figure.Figure at 0x7fd3f46d4f90>"
      ]
     },
     "metadata": {},
     "output_type": "display_data"
    }
   ],
   "source": [
    "# get the number of buy events by date\n",
    "train_df['date'].value_counts().plot()"
   ]
  },
  {
   "cell_type": "code",
   "execution_count": 8,
   "metadata": {
    "scrolled": true
   },
   "outputs": [
    {
     "data": {
      "text/plain": [
       "44    3513089\n",
       "45    3484244\n",
       "47    3457407\n",
       "3     3401264\n",
       "46    3353890\n",
       "49    3342531\n",
       "8     3261184\n",
       "48    3236523\n",
       "50    3192566\n",
       "6     3089799\n",
       "2     2987840\n",
       "51    2960031\n",
       "7     2921204\n",
       "37    2831691\n",
       "4     2830554\n",
       "9     2773790\n",
       "24    2769889\n",
       "38    2727731\n",
       "5     2666691\n",
       "39    2638036\n",
       "27    2631714\n",
       "11    2568282\n",
       "1     2562153\n",
       "41    2503919\n",
       "28    2418816\n",
       "23    2365697\n",
       "31    2361724\n",
       "34    2299422\n",
       "36    2211162\n",
       "18    2196682\n",
       "17    2164020\n",
       "40    2102799\n",
       "25    2057020\n",
       "33    1963485\n",
       "43    1939694\n",
       "15    1938678\n",
       "53    1938255\n",
       "19    1879155\n",
       "12    1836583\n",
       "16    1820035\n",
       "14    1805941\n",
       "26    1793082\n",
       "10    1740482\n",
       "13    1736728\n",
       "20    1665985\n",
       "54    1648867\n",
       "30    1597862\n",
       "29    1508959\n",
       "42    1461683\n",
       "35    1388104\n",
       "21    1373419\n",
       "32    1362615\n",
       "22     923483\n",
       "52     290581\n",
       "Name: store_nbr, dtype: int64"
      ]
     },
     "execution_count": 8,
     "metadata": {},
     "output_type": "execute_result"
    }
   ],
   "source": [
    "#The number of buy events at different stores\n",
    "train_df['store_nbr'].value_counts()"
   ]
  },
  {
   "cell_type": "code",
   "execution_count": 9,
   "metadata": {
    "scrolled": true
   },
   "outputs": [
    {
     "data": {
      "text/plain": [
       "502331     83475\n",
       "314384     83450\n",
       "364606     83308\n",
       "265559     83047\n",
       "559870     82513\n",
       "1036689    82134\n",
       "273528     82108\n",
       "564533     82086\n",
       "261052     81774\n",
       "414353     81755\n",
       "1084881    81324\n",
       "839363     81268\n",
       "850333     81097\n",
       "414750     81091\n",
       "847863     80947\n",
       "581078     80776\n",
       "1047679    80713\n",
       "258396     80574\n",
       "759893     80499\n",
       "841842     80419\n",
       "215331     80119\n",
       "265279     80048\n",
       "1052563    79937\n",
       "807493     79885\n",
       "1047685    79832\n",
       "567623     79783\n",
       "1047790    79680\n",
       "165594     79648\n",
       "564534     79625\n",
       "1047681    79603\n",
       "           ...  \n",
       "2120723       28\n",
       "1976284       25\n",
       "2114752       25\n",
       "2123036       23\n",
       "2123791       21\n",
       "2121690       19\n",
       "2011457       18\n",
       "2011470       17\n",
       "2011437       16\n",
       "2121610       13\n",
       "2123839       13\n",
       "2123711       12\n",
       "2126842       12\n",
       "2123863       12\n",
       "2116139       12\n",
       "2123859       10\n",
       "2116132       10\n",
       "2011448       10\n",
       "2011459        9\n",
       "2011468        9\n",
       "2123790        8\n",
       "2116238        7\n",
       "2126944        5\n",
       "2122947        5\n",
       "2123209        5\n",
       "2123463        5\n",
       "2123747        3\n",
       "2122818        2\n",
       "2015898        1\n",
       "2011451        1\n",
       "Name: item_nbr, Length: 4036, dtype: int64"
      ]
     },
     "execution_count": 9,
     "metadata": {},
     "output_type": "execute_result"
    }
   ],
   "source": [
    "#The number of buy events at different stores\n",
    "train_df['item_nbr'].value_counts()"
   ]
  },
  {
   "cell_type": "code",
   "execution_count": 10,
   "metadata": {},
   "outputs": [
    {
     "data": {
      "text/plain": [
       "<matplotlib.axes._subplots.AxesSubplot at 0x7fd3f4a5fd90>"
      ]
     },
     "execution_count": 10,
     "metadata": {},
     "output_type": "execute_result"
    },
    {
     "data": {
      "image/png": "[encoded data removed]",
      "text/plain": [
       "<matplotlib.figure.Figure at 0x7fd4208fb310>"
      ]
     },
     "metadata": {},
     "output_type": "display_data"
    }
   ],
   "source": [
    "# distribution of the number of items being bought\n",
    "pos_sales = train_df.unit_sales >= 0\n",
    "small_sales = train_df.unit_sales <= 200\n",
    "train_df.unit_sales[pos_sales & small_sales].plot.hist(bins = 50, log=True)"
   ]
  },
  {
   "cell_type": "code",
   "execution_count": 12,
   "metadata": {},
   "outputs": [
    {
     "data": {
      "text/plain": [
       "<matplotlib.axes._subplots.AxesSubplot at 0x7fd3f4926e50>"
      ]
     },
     "execution_count": 12,
     "metadata": {},
     "output_type": "execute_result"
    },
    {
     "data": {
      "image/png": "[encoded data removed]",
      "text/plain": [
       "<matplotlib.figure.Figure at 0x7fd3f49e0a50>"
      ]
     },
     "metadata": {},
     "output_type": "display_data"
    }
   ],
   "source": [
    "# distribution of the number of items being returned\n",
    "train_df[train_df.unit_sales < 0].unit_sales.apply(lambda x: -x).plot.hist(bins = 50, log = True)"
   ]
  }
 ],
 "metadata": {
  "kernelspec": {
   "display_name": "Python 2",
   "language": "python",
   "name": "python2"
  },
  "language_info": {
   "codemirror_mode": {
    "name": "ipython",
    "version": 2
   },
   "file_extension": ".py",
   "mimetype": "text/x-python",
   "name": "python",
   "nbconvert_exporter": "python",
   "pygments_lexer": "ipython2",
   "version": "2.7.12"
  }
 },
 "nbformat": 4,
 "nbformat_minor": 1
}
