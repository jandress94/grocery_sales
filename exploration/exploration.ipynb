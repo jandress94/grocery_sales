{
 "cells": [
  {
   "cell_type": "code",
   "execution_count": 1,
   "metadata": {
    "_cell_guid": "96aaa4ae-93fa-4e61-9a27-eecce5d9bbbb",
    "_uuid": "ec98359e09136ae9f812915c8c7c1f339f48c01c"
   },
   "outputs": [
    {
     "name": "stdout",
     "output_type": "stream",
     "text": [
      "holidays_events.csv\n",
      "items.csv\n",
      "oil.csv\n",
      "sample_submission.csv\n",
      "stores.csv\n",
      "test.csv\n",
      "test_sample.csv\n",
      "train.csv\n",
      "train_sample.csv\n",
      "transactions.csv\n",
      "\n"
     ]
    }
   ],
   "source": [
    "# This Python 3 environment comes with many helpful analytics libraries installed\n",
    "# It is defined by the kaggle/python docker image: https://github.com/kaggle/docker-python\n",
    "# For example, here's several helpful packages to load in \n",
    "%matplotlib inline\n",
    "\n",
    "import numpy as np # linear algebra\n",
    "import pandas as pd # data processing, CSV file I/O (e.g. pd.read_csv)\n",
    "import matplotlib.pyplot as plt\n",
    "import math\n",
    "\n",
    "# Input data files are available in the \"../input/\" directory.\n",
    "# For example, running this (by clicking run or pressing Shift+Enter) will list the files in the input directory\n",
    "\n",
    "from subprocess import check_output\n",
    "print(check_output(\"ls ../input\", shell = True).decode(\"utf8\"))\n",
    "\n",
    "# Any results you write to the current directory are saved as output."
   ]
  },
  {
   "cell_type": "markdown",
   "metadata": {},
   "source": [
    "# train.csv"
   ]
  },
  {
   "cell_type": "code",
   "execution_count": 120,
   "metadata": {},
   "outputs": [
    {
     "name": "stdout",
     "output_type": "stream",
     "text": [
      "Number of rows: 1003976\n",
      "\n",
      "Columns: Index([u'date', u'store_nbr', u'item_nbr', u'unit_sales', u'onpromotion'], dtype='object')\n",
      "\n",
      "Data types:\n",
      "date           datetime64[ns]\n",
      "store_nbr               int64\n",
      "item_nbr                int64\n",
      "unit_sales            float64\n",
      "onpromotion            object\n",
      "dtype: object\n",
      "\n",
      "Column has missing values:\n",
      "date           False\n",
      "store_nbr      False\n",
      "item_nbr       False\n",
      "unit_sales     False\n",
      "onpromotion     True\n",
      "dtype: bool\n",
      "\n"
     ]
    }
   ],
   "source": [
    "# load in the training data\n",
    "# the number of rows (approximately) that should be loaded.  Set this negative to get all the data\n",
    "numDesiredRows = 1000000\n",
    "\n",
    "if numDesiredRows < 0:\n",
    "    skiprows = 0\n",
    "else:\n",
    "    step = math.ceil(125000000. / numDesiredRows)\n",
    "    skiprows = lambda x: x != 0 and x % step != 0\n",
    "\n",
    "train_df = pd.read_csv('../input/train.csv', header = 0, index_col = 'id', \n",
    "                       parse_dates = ['date'], dtype = {'onpromotion': bool}, skiprows = skiprows)\n",
    "\n",
    "print(\"Number of rows: %d\\n\" % (len(train_df)))\n",
    "print(\"Columns: %s\\n\" % (train_df.columns))\n",
    "print(\"Data types:\\n%s\\n\" % (train_df.dtypes))\n",
    "print(\"Column has missing values:\\n%s\\n\" % (train_df.isnull().any()))"
   ]
  },
  {
   "cell_type": "code",
   "execution_count": 47,
   "metadata": {},
   "outputs": [
    {
     "data": {
      "text/html": [
       "<div>\n",
       "<style scoped>\n",
       "    .dataframe tbody tr th:only-of-type {\n",
       "        vertical-align: middle;\n",
       "    }\n",
       "\n",
       "    .dataframe tbody tr th {\n",
       "        vertical-align: top;\n",
       "    }\n",
       "\n",
       "    .dataframe thead th {\n",
       "        text-align: right;\n",
       "    }\n",
       "</style>\n",
       "<table border=\"1\" class=\"dataframe\">\n",
       "  <thead>\n",
       "    <tr style=\"text-align: right;\">\n",
       "      <th></th>\n",
       "      <th>date</th>\n",
       "      <th>store_nbr</th>\n",
       "      <th>item_nbr</th>\n",
       "      <th>unit_sales</th>\n",
       "      <th>onpromotion</th>\n",
       "    </tr>\n",
       "    <tr>\n",
       "      <th>id</th>\n",
       "      <th></th>\n",
       "      <th></th>\n",
       "      <th></th>\n",
       "      <th></th>\n",
       "      <th></th>\n",
       "    </tr>\n",
       "  </thead>\n",
       "  <tbody>\n",
       "    <tr>\n",
       "      <th>124</th>\n",
       "      <td>2013-01-01</td>\n",
       "      <td>25</td>\n",
       "      <td>315322</td>\n",
       "      <td>1.0</td>\n",
       "      <td>NaN</td>\n",
       "    </tr>\n",
       "    <tr>\n",
       "      <th>249</th>\n",
       "      <td>2013-01-01</td>\n",
       "      <td>25</td>\n",
       "      <td>564533</td>\n",
       "      <td>1.0</td>\n",
       "      <td>NaN</td>\n",
       "    </tr>\n",
       "    <tr>\n",
       "      <th>374</th>\n",
       "      <td>2013-01-01</td>\n",
       "      <td>25</td>\n",
       "      <td>809183</td>\n",
       "      <td>1.0</td>\n",
       "      <td>NaN</td>\n",
       "    </tr>\n",
       "    <tr>\n",
       "      <th>499</th>\n",
       "      <td>2013-01-01</td>\n",
       "      <td>25</td>\n",
       "      <td>1004550</td>\n",
       "      <td>32.0</td>\n",
       "      <td>NaN</td>\n",
       "    </tr>\n",
       "    <tr>\n",
       "      <th>624</th>\n",
       "      <td>2013-01-02</td>\n",
       "      <td>1</td>\n",
       "      <td>127534</td>\n",
       "      <td>4.0</td>\n",
       "      <td>NaN</td>\n",
       "    </tr>\n",
       "  </tbody>\n",
       "</table>\n",
       "</div>"
      ],
      "text/plain": [
       "          date  store_nbr  item_nbr  unit_sales onpromotion\n",
       "id                                                         \n",
       "124 2013-01-01         25    315322         1.0         NaN\n",
       "249 2013-01-01         25    564533         1.0         NaN\n",
       "374 2013-01-01         25    809183         1.0         NaN\n",
       "499 2013-01-01         25   1004550        32.0         NaN\n",
       "624 2013-01-02          1    127534         4.0         NaN"
      ]
     },
     "execution_count": 47,
     "metadata": {},
     "output_type": "execute_result"
    }
   ],
   "source": [
    "# Take a look at the first few rows\n",
    "train_df.head(5)"
   ]
  },
  {
   "cell_type": "code",
   "execution_count": 49,
   "metadata": {},
   "outputs": [
    {
     "data": {
      "text/plain": [
       "count    1.003976e+06\n",
       "mean     8.562639e+00\n",
       "std      2.033525e+01\n",
       "min     -5.500000e+01\n",
       "25%      2.000000e+00\n",
       "50%      4.000000e+00\n",
       "75%      9.000000e+00\n",
       "max      4.809000e+03\n",
       "Name: unit_sales, dtype: float64"
      ]
     },
     "execution_count": 49,
     "metadata": {},
     "output_type": "execute_result"
    }
   ],
   "source": [
    "# get some basic summary stats for the number of sales\n",
    "train_df['unit_sales'].describe()"
   ]
  },
  {
   "cell_type": "code",
   "execution_count": 50,
   "metadata": {},
   "outputs": [
    {
     "data": {
      "text/plain": [
       "51"
      ]
     },
     "execution_count": 50,
     "metadata": {},
     "output_type": "execute_result"
    }
   ],
   "source": [
    "# we're told a negative unit_sales means items were returned.  Check how often that occurs\n",
    "len(train_df[train_df.unit_sales < 0])"
   ]
  },
  {
   "cell_type": "code",
   "execution_count": 138,
   "metadata": {},
   "outputs": [
    {
     "data": {
      "text/plain": [
       "<matplotlib.axes._subplots.AxesSubplot at 0x7f02b7fea210>"
      ]
     },
     "execution_count": 138,
     "metadata": {},
     "output_type": "execute_result"
    },
    {
     "data": {
      "image/png": "[encoded data removed]",
      "text/plain": [
       "<matplotlib.figure.Figure at 0x7f02b8276c50>"
      ]
     },
     "metadata": {},
     "output_type": "display_data"
    }
   ],
   "source": [
    "train_df['date'].value_counts().plot(title = \"number of buy events over time\")"
   ]
  },
  {
   "cell_type": "code",
   "execution_count": 52,
   "metadata": {
    "scrolled": true
   },
   "outputs": [
    {
     "data": {
      "text/plain": [
       "44    28131\n",
       "45    27883\n",
       "47    27654\n",
       "3     27218\n",
       "46    26810\n",
       "49    26723\n",
       "8     26086\n",
       "48    25916\n",
       "50    25534\n",
       "6     24709\n",
       "2     23906\n",
       "51    23671\n",
       "7     23377\n",
       "37    22645\n",
       "4     22633\n",
       "9     22180\n",
       "24    22163\n",
       "38    21827\n",
       "5     21354\n",
       "39    21108\n",
       "27    21024\n",
       "11    20504\n",
       "1     20482\n",
       "41    20015\n",
       "28    19371\n",
       "23    18946\n",
       "31    18908\n",
       "34    18381\n",
       "36    17703\n",
       "18    17562\n",
       "17    17312\n",
       "40    16821\n",
       "25    16449\n",
       "33    15725\n",
       "53    15529\n",
       "15    15500\n",
       "43    15495\n",
       "19    15039\n",
       "12    14715\n",
       "16    14562\n",
       "14    14462\n",
       "26    14366\n",
       "10    13952\n",
       "13    13880\n",
       "20    13305\n",
       "54    13193\n",
       "30    12752\n",
       "29    12064\n",
       "42    11720\n",
       "35    11085\n",
       "21    11016\n",
       "32    10911\n",
       "22     7378\n",
       "52     2321\n",
       "Name: store_nbr, dtype: int64"
      ]
     },
     "execution_count": 52,
     "metadata": {},
     "output_type": "execute_result"
    }
   ],
   "source": [
    "#The number of buy events at different stores\n",
    "train_df['store_nbr'].value_counts()"
   ]
  },
  {
   "cell_type": "code",
   "execution_count": 53,
   "metadata": {
    "scrolled": true
   },
   "outputs": [
    {
     "data": {
      "text/plain": [
       "692537     694\n",
       "559870     691\n",
       "162066     687\n",
       "258396     684\n",
       "414750     682\n",
       "273528     681\n",
       "1105212    677\n",
       "839363     672\n",
       "414353     661\n",
       "315176     661\n",
       "567623     660\n",
       "115267     660\n",
       "841842     660\n",
       "850333     659\n",
       "1146795    657\n",
       "265559     655\n",
       "314384     654\n",
       "208384     654\n",
       "1084881    653\n",
       "1047772    653\n",
       "847863     652\n",
       "621300     652\n",
       "502331     651\n",
       "807493     648\n",
       "261053     648\n",
       "265279     647\n",
       "1036689    647\n",
       "938566     646\n",
       "165594     645\n",
       "1047681    645\n",
       "          ... \n",
       "1988467      4\n",
       "2090125      4\n",
       "2089036      4\n",
       "2089250      4\n",
       "2062477      4\n",
       "2087409      3\n",
       "2054300      3\n",
       "2056876      3\n",
       "1939239      3\n",
       "2010082      3\n",
       "2122188      3\n",
       "2088946      3\n",
       "2035576      3\n",
       "2089224      3\n",
       "2011450      2\n",
       "2045493      2\n",
       "2011457      2\n",
       "2008567      1\n",
       "2011448      1\n",
       "1993625      1\n",
       "2123727      1\n",
       "2123775      1\n",
       "2127114      1\n",
       "2120723      1\n",
       "2075374      1\n",
       "2123711      1\n",
       "2122868      1\n",
       "2123750      1\n",
       "2123791      1\n",
       "2011451      1\n",
       "Name: item_nbr, Length: 4006, dtype: int64"
      ]
     },
     "execution_count": 53,
     "metadata": {},
     "output_type": "execute_result"
    }
   ],
   "source": [
    "#The number of buy events at different stores\n",
    "train_df['item_nbr'].value_counts()"
   ]
  },
  {
   "cell_type": "code",
   "execution_count": 139,
   "metadata": {},
   "outputs": [
    {
     "data": {
      "text/plain": [
       "<matplotlib.axes._subplots.AxesSubplot at 0x7f02b813c6d0>"
      ]
     },
     "execution_count": 139,
     "metadata": {},
     "output_type": "execute_result"
    },
    {
     "data": {
      "image/png": "[encoded data removed]",
      "text/plain": [
       "<matplotlib.figure.Figure at 0x7f02b8011350>"
      ]
     },
     "metadata": {},
     "output_type": "display_data"
    }
   ],
   "source": [
    "# distribution of the number of items being bought\n",
    "upper_cutoff = 200\n",
    "pos_sales = train_df.unit_sales >= 0\n",
    "small_sales = train_df.unit_sales <= upper_cutoff\n",
    "train_df.unit_sales[pos_sales & small_sales].plot.hist(bins = 50, log=True, title = \"0 <= unit_sales <= %d histogram\" % (upper_cutoff))"
   ]
  },
  {
   "cell_type": "code",
   "execution_count": 140,
   "metadata": {},
   "outputs": [
    {
     "data": {
      "text/plain": [
       "<matplotlib.axes._subplots.AxesSubplot at 0x7f02af6c1c50>"
      ]
     },
     "execution_count": 140,
     "metadata": {},
     "output_type": "execute_result"
    },
    {
     "data": {
      "image/png": "[encoded data removed]",
      "text/plain": [
       "<matplotlib.figure.Figure at 0x7f02b7fd4ad0>"
      ]
     },
     "metadata": {},
     "output_type": "display_data"
    }
   ],
   "source": [
    "# distribution of the number of items being returned\n",
    "train_df[train_df.unit_sales < 0].unit_sales.apply(lambda x: -x).plot.hist(bins = 50, log = True, title = \"negative unit_sales histogram\")"
   ]
  },
  {
   "cell_type": "code",
   "execution_count": 56,
   "metadata": {},
   "outputs": [
    {
     "name": "stdout",
     "output_type": "stream",
     "text": [
      "num NA onpromotion: 173261\n",
      "num onpromotion: 62717\n",
      "num not onpromotion: 767998\n",
      "total: 1003976\n"
     ]
    }
   ],
   "source": [
    "# check how many of the onpromotion values are missing, how many are true, and how many are false\n",
    "naOnPromotions = train_df[pd.isna(train_df.onpromotion)]\n",
    "onPromotions = train_df[train_df.onpromotion == True]\n",
    "notOnPromotions = train_df[train_df.onpromotion == False]\n",
    "print(\"num NA onpromotion: %d\\nnum onpromotion: %d\\nnum not onpromotion: %d\\ntotal: %d\" % \n",
    "              (len(naOnPromotions), len(onPromotions), len(notOnPromotions), len(train_df)))"
   ]
  },
  {
   "cell_type": "markdown",
   "metadata": {},
   "source": [
    "Based on the counts above, as well as just common sense, it seems like missing onpromotion values should probably be filled in as being False"
   ]
  },
  {
   "cell_type": "markdown",
   "metadata": {},
   "source": [
    "# oil.csv"
   ]
  },
  {
   "cell_type": "code",
   "execution_count": 121,
   "metadata": {},
   "outputs": [
    {
     "name": "stdout",
     "output_type": "stream",
     "text": [
      "Number of rows: 1218\n",
      "\n",
      "Columns: Index([u'price'], dtype='object')\n",
      "\n",
      "Data types:\n",
      "price    float64\n",
      "dtype: object\n",
      "\n",
      "Column has missing values:\n",
      "price    True\n",
      "dtype: bool\n",
      "\n"
     ]
    }
   ],
   "source": [
    "# load in the oil data\n",
    "oil_df = pd.read_csv('../input/oil.csv', header = 0 , index_col = 'date', \n",
    "                     parse_dates = ['date'], names = ['date', 'price'], dtype = {'price': np.dtype('float64')})\n",
    "\n",
    "print(\"Number of rows: %d\\n\" % (len(oil_df)))\n",
    "print(\"Columns: %s\\n\" % (oil_df.columns))\n",
    "print(\"Data types:\\n%s\\n\" % (oil_df.dtypes))\n",
    "print(\"Column has missing values:\\n%s\\n\" % (oil_df.isnull().any()))"
   ]
  },
  {
   "cell_type": "code",
   "execution_count": 58,
   "metadata": {},
   "outputs": [
    {
     "data": {
      "text/html": [
       "<div>\n",
       "<style scoped>\n",
       "    .dataframe tbody tr th:only-of-type {\n",
       "        vertical-align: middle;\n",
       "    }\n",
       "\n",
       "    .dataframe tbody tr th {\n",
       "        vertical-align: top;\n",
       "    }\n",
       "\n",
       "    .dataframe thead th {\n",
       "        text-align: right;\n",
       "    }\n",
       "</style>\n",
       "<table border=\"1\" class=\"dataframe\">\n",
       "  <thead>\n",
       "    <tr style=\"text-align: right;\">\n",
       "      <th></th>\n",
       "      <th>price</th>\n",
       "    </tr>\n",
       "    <tr>\n",
       "      <th>date</th>\n",
       "      <th></th>\n",
       "    </tr>\n",
       "  </thead>\n",
       "  <tbody>\n",
       "    <tr>\n",
       "      <th>2013-01-01</th>\n",
       "      <td>NaN</td>\n",
       "    </tr>\n",
       "    <tr>\n",
       "      <th>2013-01-02</th>\n",
       "      <td>93.14</td>\n",
       "    </tr>\n",
       "    <tr>\n",
       "      <th>2013-01-03</th>\n",
       "      <td>92.97</td>\n",
       "    </tr>\n",
       "    <tr>\n",
       "      <th>2013-01-04</th>\n",
       "      <td>93.12</td>\n",
       "    </tr>\n",
       "    <tr>\n",
       "      <th>2013-01-07</th>\n",
       "      <td>93.20</td>\n",
       "    </tr>\n",
       "  </tbody>\n",
       "</table>\n",
       "</div>"
      ],
      "text/plain": [
       "            price\n",
       "date             \n",
       "2013-01-01    NaN\n",
       "2013-01-02  93.14\n",
       "2013-01-03  92.97\n",
       "2013-01-04  93.12\n",
       "2013-01-07  93.20"
      ]
     },
     "execution_count": 58,
     "metadata": {},
     "output_type": "execute_result"
    }
   ],
   "source": [
    "# examine the first few rows\n",
    "oil_df.head(5)"
   ]
  },
  {
   "cell_type": "code",
   "execution_count": 59,
   "metadata": {},
   "outputs": [
    {
     "data": {
      "text/html": [
       "<div>\n",
       "<style scoped>\n",
       "    .dataframe tbody tr th:only-of-type {\n",
       "        vertical-align: middle;\n",
       "    }\n",
       "\n",
       "    .dataframe tbody tr th {\n",
       "        vertical-align: top;\n",
       "    }\n",
       "\n",
       "    .dataframe thead th {\n",
       "        text-align: right;\n",
       "    }\n",
       "</style>\n",
       "<table border=\"1\" class=\"dataframe\">\n",
       "  <thead>\n",
       "    <tr style=\"text-align: right;\">\n",
       "      <th></th>\n",
       "      <th>price</th>\n",
       "    </tr>\n",
       "  </thead>\n",
       "  <tbody>\n",
       "    <tr>\n",
       "      <th>count</th>\n",
       "      <td>1175.000000</td>\n",
       "    </tr>\n",
       "    <tr>\n",
       "      <th>mean</th>\n",
       "      <td>67.714366</td>\n",
       "    </tr>\n",
       "    <tr>\n",
       "      <th>std</th>\n",
       "      <td>25.630476</td>\n",
       "    </tr>\n",
       "    <tr>\n",
       "      <th>min</th>\n",
       "      <td>26.190000</td>\n",
       "    </tr>\n",
       "    <tr>\n",
       "      <th>25%</th>\n",
       "      <td>46.405000</td>\n",
       "    </tr>\n",
       "    <tr>\n",
       "      <th>50%</th>\n",
       "      <td>53.190000</td>\n",
       "    </tr>\n",
       "    <tr>\n",
       "      <th>75%</th>\n",
       "      <td>95.660000</td>\n",
       "    </tr>\n",
       "    <tr>\n",
       "      <th>max</th>\n",
       "      <td>110.620000</td>\n",
       "    </tr>\n",
       "  </tbody>\n",
       "</table>\n",
       "</div>"
      ],
      "text/plain": [
       "             price\n",
       "count  1175.000000\n",
       "mean     67.714366\n",
       "std      25.630476\n",
       "min      26.190000\n",
       "25%      46.405000\n",
       "50%      53.190000\n",
       "75%      95.660000\n",
       "max     110.620000"
      ]
     },
     "execution_count": 59,
     "metadata": {},
     "output_type": "execute_result"
    }
   ],
   "source": [
    "# some basic stats about the oil prices\n",
    "oil_df.describe()"
   ]
  },
  {
   "cell_type": "code",
   "execution_count": 60,
   "metadata": {},
   "outputs": [
    {
     "data": {
      "text/plain": [
       "<matplotlib.axes._subplots.AxesSubplot at 0x7f02bd6522d0>"
      ]
     },
     "execution_count": 60,
     "metadata": {},
     "output_type": "execute_result"
    },
    {
     "data": {
      "image/png": "[encoded data removed]",
      "text/plain": [
       "<matplotlib.figure.Figure at 0x7f02bd55bb90>"
      ]
     },
     "metadata": {},
     "output_type": "display_data"
    }
   ],
   "source": [
    "# check the oil price over time graph\n",
    "oil_df.plot()"
   ]
  },
  {
   "cell_type": "code",
   "execution_count": 61,
   "metadata": {},
   "outputs": [
    {
     "name": "stdout",
     "output_type": "stream",
     "text": [
      "w/ oil price: 1175    w/o oil price: 43\n"
     ]
    }
   ],
   "source": [
    "# get the number of dates with oil price and the number without \n",
    "numNA = len(oil_df.price[pd.isna(oil_df.price)])\n",
    "print(\"w/ oil price: %d    w/o oil price: %d\" % (len(oil_df) - numNA, numNA))"
   ]
  },
  {
   "cell_type": "code",
   "execution_count": 62,
   "metadata": {
    "scrolled": true
   },
   "outputs": [
    {
     "name": "stdout",
     "output_type": "stream",
     "text": [
      "[1, 1, 1, 1, 1, 1, 1, 1, 1, 1, 1, 1, 1, 1, 1, 1, 1, 1, 1, 1, 1, 1, 1, 1, 1, 1, 1, 1, 1, 1, 1, 1, 1, 1, 1, 1, 1, 1, 1, 1, 1, 2]\n",
      "43\n"
     ]
    }
   ],
   "source": [
    "# check how long the consecutive runs of missing data are\n",
    "consecMissing = [0]\n",
    "for date in oil_df.index:\n",
    "    if pd.isna(oil_df.price[date]):\n",
    "        consecMissing[-1] += 1\n",
    "    elif consecMissing[-1] > 0:\n",
    "        consecMissing.append(0)\n",
    "        \n",
    "if consecMissing[-1] == 0:\n",
    "    consecMissing = consecMissing[:-1]\n",
    "        \n",
    "print(consecMissing)\n",
    "print(sum(consecMissing))"
   ]
  },
  {
   "cell_type": "markdown",
   "metadata": {},
   "source": [
    "We see that there is at most two days in a row missing oil prices, so it would probably be fine to simply interpolate the price to get rid of the missing values."
   ]
  },
  {
   "cell_type": "markdown",
   "metadata": {},
   "source": [
    "# items"
   ]
  },
  {
   "cell_type": "code",
   "execution_count": 122,
   "metadata": {},
   "outputs": [
    {
     "name": "stdout",
     "output_type": "stream",
     "text": [
      "Number of rows: 4100\n",
      "\n",
      "Columns: Index([u'family', u'class', u'perishable'], dtype='object')\n",
      "\n",
      "Data types:\n",
      "family        object\n",
      "class          int64\n",
      "perishable      bool\n",
      "dtype: object\n",
      "\n",
      "Column has missing values:\n",
      "family        False\n",
      "class         False\n",
      "perishable    False\n",
      "dtype: bool\n",
      "\n"
     ]
    }
   ],
   "source": [
    "# load in the items data\n",
    "item_df = pd.read_csv('../input/items.csv', header = 0, dtype = {'perishable': bool}, index_col = 'item_nbr')\n",
    "\n",
    "print(\"Number of rows: %d\\n\" % (len(item_df)))\n",
    "print(\"Columns: %s\\n\" % (item_df.columns))\n",
    "print(\"Data types:\\n%s\\n\" % (item_df.dtypes))\n",
    "print(\"Column has missing values:\\n%s\\n\" % (item_df.isnull().any()))"
   ]
  },
  {
   "cell_type": "code",
   "execution_count": 64,
   "metadata": {},
   "outputs": [
    {
     "data": {
      "text/html": [
       "<div>\n",
       "<style scoped>\n",
       "    .dataframe tbody tr th:only-of-type {\n",
       "        vertical-align: middle;\n",
       "    }\n",
       "\n",
       "    .dataframe tbody tr th {\n",
       "        vertical-align: top;\n",
       "    }\n",
       "\n",
       "    .dataframe thead th {\n",
       "        text-align: right;\n",
       "    }\n",
       "</style>\n",
       "<table border=\"1\" class=\"dataframe\">\n",
       "  <thead>\n",
       "    <tr style=\"text-align: right;\">\n",
       "      <th></th>\n",
       "      <th>family</th>\n",
       "      <th>class</th>\n",
       "      <th>perishable</th>\n",
       "    </tr>\n",
       "    <tr>\n",
       "      <th>item_nbr</th>\n",
       "      <th></th>\n",
       "      <th></th>\n",
       "      <th></th>\n",
       "    </tr>\n",
       "  </thead>\n",
       "  <tbody>\n",
       "    <tr>\n",
       "      <th>96995</th>\n",
       "      <td>GROCERY I</td>\n",
       "      <td>1093</td>\n",
       "      <td>False</td>\n",
       "    </tr>\n",
       "    <tr>\n",
       "      <th>99197</th>\n",
       "      <td>GROCERY I</td>\n",
       "      <td>1067</td>\n",
       "      <td>False</td>\n",
       "    </tr>\n",
       "    <tr>\n",
       "      <th>103501</th>\n",
       "      <td>CLEANING</td>\n",
       "      <td>3008</td>\n",
       "      <td>False</td>\n",
       "    </tr>\n",
       "    <tr>\n",
       "      <th>103520</th>\n",
       "      <td>GROCERY I</td>\n",
       "      <td>1028</td>\n",
       "      <td>False</td>\n",
       "    </tr>\n",
       "    <tr>\n",
       "      <th>103665</th>\n",
       "      <td>BREAD/BAKERY</td>\n",
       "      <td>2712</td>\n",
       "      <td>True</td>\n",
       "    </tr>\n",
       "  </tbody>\n",
       "</table>\n",
       "</div>"
      ],
      "text/plain": [
       "                family  class  perishable\n",
       "item_nbr                                 \n",
       "96995        GROCERY I   1093       False\n",
       "99197        GROCERY I   1067       False\n",
       "103501        CLEANING   3008       False\n",
       "103520       GROCERY I   1028       False\n",
       "103665    BREAD/BAKERY   2712        True"
      ]
     },
     "execution_count": 64,
     "metadata": {},
     "output_type": "execute_result"
    }
   ],
   "source": [
    "# examine the first few items\n",
    "item_df.head(5)"
   ]
  },
  {
   "cell_type": "markdown",
   "metadata": {},
   "source": [
    "### item families"
   ]
  },
  {
   "cell_type": "code",
   "execution_count": 68,
   "metadata": {},
   "outputs": [
    {
     "name": "stdout",
     "output_type": "stream",
     "text": [
      "Number of different families: 33\n"
     ]
    }
   ],
   "source": [
    "print(\"Number of different families: %d\" % (item_df.family.nunique()))"
   ]
  },
  {
   "cell_type": "code",
   "execution_count": 141,
   "metadata": {},
   "outputs": [
    {
     "data": {
      "text/plain": [
       "<matplotlib.axes._subplots.AxesSubplot at 0x7f02b7fcf9d0>"
      ]
     },
     "execution_count": 141,
     "metadata": {},
     "output_type": "execute_result"
    },
    {
     "data": {
      "image/png": "[encoded data removed]",
      "text/plain": [
       "<matplotlib.figure.Figure at 0x7f02b7ff3750>"
      ]
     },
     "metadata": {},
     "output_type": "display_data"
    }
   ],
   "source": [
    "# number of items which belong to each of the families\n",
    "item_df.family.value_counts().plot.bar(title = \"number items per family\")"
   ]
  },
  {
   "cell_type": "markdown",
   "metadata": {},
   "source": [
    "### item classes"
   ]
  },
  {
   "cell_type": "code",
   "execution_count": 73,
   "metadata": {},
   "outputs": [
    {
     "name": "stdout",
     "output_type": "stream",
     "text": [
      "Number of unique item classes: 337\n"
     ]
    }
   ],
   "source": [
    "print(\"Number of unique item classes: %d\" %(item_df['class'].nunique()))"
   ]
  },
  {
   "cell_type": "code",
   "execution_count": 75,
   "metadata": {
    "scrolled": true
   },
   "outputs": [
    {
     "data": {
      "text/plain": [
       "1016    133\n",
       "1040    110\n",
       "1124    100\n",
       "1034     98\n",
       "1122     81\n",
       "1072     70\n",
       "1032     65\n",
       "1148     62\n",
       "1120     61\n",
       "3020     60\n",
       "2302     59\n",
       "1026     54\n",
       "3106     53\n",
       "1042     51\n",
       "1030     51\n",
       "1028     48\n",
       "1114     42\n",
       "3034     41\n",
       "2006     41\n",
       "1190     40\n",
       "4126     40\n",
       "1074     39\n",
       "1004     39\n",
       "1142     37\n",
       "1126     36\n",
       "2502     36\n",
       "2420     36\n",
       "3046     35\n",
       "1144     35\n",
       "2008     34\n",
       "       ... \n",
       "1018      1\n",
       "6393      1\n",
       "1336      1\n",
       "6301      1\n",
       "1380      1\n",
       "6022      1\n",
       "2024      1\n",
       "4139      1\n",
       "6230      1\n",
       "6238      1\n",
       "4255      1\n",
       "6322      1\n",
       "6426      1\n",
       "2340      1\n",
       "2412      1\n",
       "2640      1\n",
       "2784      1\n",
       "2864      1\n",
       "1005      1\n",
       "1029      1\n",
       "1041      1\n",
       "3116      1\n",
       "1089      1\n",
       "1153      1\n",
       "4140      1\n",
       "2103      1\n",
       "6233      1\n",
       "4212      1\n",
       "4228      1\n",
       "6155      1\n",
       "Name: class, Length: 337, dtype: int64"
      ]
     },
     "execution_count": 75,
     "metadata": {},
     "output_type": "execute_result"
    }
   ],
   "source": [
    "# number of items which are in each of the classes\n",
    "item_df['class'].value_counts()"
   ]
  },
  {
   "cell_type": "markdown",
   "metadata": {},
   "source": [
    "### item perishable status"
   ]
  },
  {
   "cell_type": "code",
   "execution_count": 77,
   "metadata": {},
   "outputs": [
    {
     "name": "stdout",
     "output_type": "stream",
     "text": [
      "Num perishable: 986,   Num not perishable: 3114\n"
     ]
    }
   ],
   "source": [
    "perishableItems = item_df[item_df.perishable]\n",
    "print(\"Num perishable: %d,   Num not perishable: %d\" % (len(perishableItems), len(item_df) - len(perishableItems)))"
   ]
  },
  {
   "cell_type": "markdown",
   "metadata": {},
   "source": [
    "### checking connection between class and family"
   ]
  },
  {
   "cell_type": "code",
   "execution_count": 84,
   "metadata": {},
   "outputs": [
    {
     "name": "stdout",
     "output_type": "stream",
     "text": [
      "The maximum number of families that any class belongs to: 1\n"
     ]
    }
   ],
   "source": [
    "print(\"The maximum number of families that any class belongs to: %d\" % (item_df.groupby('class')['family'].nunique().max()))"
   ]
  },
  {
   "cell_type": "markdown",
   "metadata": {},
   "source": [
    "The cell above tells us that the classes are subcategories of the families"
   ]
  },
  {
   "cell_type": "code",
   "execution_count": 143,
   "metadata": {},
   "outputs": [
    {
     "data": {
      "text/plain": [
       "<matplotlib.axes._subplots.AxesSubplot at 0x7f02b7b6a310>"
      ]
     },
     "execution_count": 143,
     "metadata": {},
     "output_type": "execute_result"
    },
    {
     "data": {
      "image/png": "[encoded data removed]",
      "text/plain": [
       "<matplotlib.figure.Figure at 0x7f02b7b7ef50>"
      ]
     },
     "metadata": {},
     "output_type": "display_data"
    }
   ],
   "source": [
    "classesPerFamily.plot.bar(title = \"number of item classes per item family\")"
   ]
  },
  {
   "cell_type": "markdown",
   "metadata": {},
   "source": [
    "### checking connection between perishable status and family/class"
   ]
  },
  {
   "cell_type": "code",
   "execution_count": 90,
   "metadata": {},
   "outputs": [
    {
     "name": "stdout",
     "output_type": "stream",
     "text": [
      "Each class contains only perishable or only non-perishable: True\n"
     ]
    }
   ],
   "source": [
    "eachClassHomForPerishable = item_df.groupby('class')['perishable'].nunique().max() == 1\n",
    "print(\"Each class contains only perishable or only non-perishable: %s\" % (eachClassHomForPerishable))"
   ]
  },
  {
   "cell_type": "code",
   "execution_count": 105,
   "metadata": {},
   "outputs": [
    {
     "name": "stdout",
     "output_type": "stream",
     "text": [
      "number of classes for with each perishable value: perishable\n",
      "False    242\n",
      "True      95\n",
      "Name: class, dtype: int64\n"
     ]
    }
   ],
   "source": [
    "print(\"number of classes for with each perishable value: %s\" % (item_df.groupby('perishable')['class'].nunique()))"
   ]
  },
  {
   "cell_type": "code",
   "execution_count": 110,
   "metadata": {},
   "outputs": [
    {
     "name": "stdout",
     "output_type": "stream",
     "text": [
      "Each family contains only perishable or only non-perishable: True\n"
     ]
    }
   ],
   "source": [
    "eachFamilyHomForPerishable = item_df.groupby('family')['perishable'].nunique().max() == 1\n",
    "print(\"Each family contains only perishable or only non-perishable: %s\" % (eachFamilyHomForPerishable))"
   ]
  },
  {
   "cell_type": "code",
   "execution_count": 111,
   "metadata": {},
   "outputs": [
    {
     "name": "stdout",
     "output_type": "stream",
     "text": [
      "number of families for with each perishable value: perishable\n",
      "False    24\n",
      "True      9\n",
      "Name: family, dtype: int64\n"
     ]
    }
   ],
   "source": [
    "print(\"number of families for with each perishable value: %s\" % (item_df.groupby('perishable')['family'].nunique()))"
   ]
  },
  {
   "cell_type": "code",
   "execution_count": 144,
   "metadata": {},
   "outputs": [
    {
     "data": {
      "text/plain": [
       "<matplotlib.axes._subplots.AxesSubplot at 0x7f02b7a7dc50>"
      ]
     },
     "execution_count": 144,
     "metadata": {},
     "output_type": "execute_result"
    },
    {
     "data": {
      "image/png": "[encoded data removed]",
      "text/plain": [
       "<matplotlib.figure.Figure at 0x7f02b7a13150>"
      ]
     },
     "metadata": {},
     "output_type": "display_data"
    }
   ],
   "source": [
    "item_df.groupby(['family', 'perishable']).size().unstack().plot.bar(stacked = True, log = True, title = \"Number of (non-)perishable items per item family\")"
   ]
  },
  {
   "cell_type": "markdown",
   "metadata": {},
   "source": [
    "# Stores"
   ]
  },
  {
   "cell_type": "code",
   "execution_count": 124,
   "metadata": {},
   "outputs": [
    {
     "name": "stdout",
     "output_type": "stream",
     "text": [
      "Number of rows: 54\n",
      "\n",
      "Columns: Index([u'city', u'state', u'type', u'cluster'], dtype='object')\n",
      "\n",
      "Data types:\n",
      "city       object\n",
      "state      object\n",
      "type       object\n",
      "cluster     int64\n",
      "dtype: object\n",
      "\n",
      "Column has missing values:\n",
      "city       False\n",
      "state      False\n",
      "type       False\n",
      "cluster    False\n",
      "dtype: bool\n",
      "\n"
     ]
    }
   ],
   "source": [
    "# load in the stores data\n",
    "store_df = pd.read_csv('../input/stores.csv', header = 0, index_col = 'store_nbr')\n",
    "\n",
    "print(\"Number of rows: %d\\n\" % (len(store_df)))\n",
    "print(\"Columns: %s\\n\" % (store_df.columns))\n",
    "print(\"Data types:\\n%s\\n\" % (store_df.dtypes))\n",
    "print(\"Column has missing values:\\n%s\\n\" % (store_df.isnull().any()))"
   ]
  },
  {
   "cell_type": "code",
   "execution_count": 125,
   "metadata": {},
   "outputs": [
    {
     "data": {
      "text/html": [
       "<div>\n",
       "<style scoped>\n",
       "    .dataframe tbody tr th:only-of-type {\n",
       "        vertical-align: middle;\n",
       "    }\n",
       "\n",
       "    .dataframe tbody tr th {\n",
       "        vertical-align: top;\n",
       "    }\n",
       "\n",
       "    .dataframe thead th {\n",
       "        text-align: right;\n",
       "    }\n",
       "</style>\n",
       "<table border=\"1\" class=\"dataframe\">\n",
       "  <thead>\n",
       "    <tr style=\"text-align: right;\">\n",
       "      <th></th>\n",
       "      <th>city</th>\n",
       "      <th>state</th>\n",
       "      <th>type</th>\n",
       "      <th>cluster</th>\n",
       "    </tr>\n",
       "    <tr>\n",
       "      <th>store_nbr</th>\n",
       "      <th></th>\n",
       "      <th></th>\n",
       "      <th></th>\n",
       "      <th></th>\n",
       "    </tr>\n",
       "  </thead>\n",
       "  <tbody>\n",
       "    <tr>\n",
       "      <th>1</th>\n",
       "      <td>Quito</td>\n",
       "      <td>Pichincha</td>\n",
       "      <td>D</td>\n",
       "      <td>13</td>\n",
       "    </tr>\n",
       "    <tr>\n",
       "      <th>2</th>\n",
       "      <td>Quito</td>\n",
       "      <td>Pichincha</td>\n",
       "      <td>D</td>\n",
       "      <td>13</td>\n",
       "    </tr>\n",
       "    <tr>\n",
       "      <th>3</th>\n",
       "      <td>Quito</td>\n",
       "      <td>Pichincha</td>\n",
       "      <td>D</td>\n",
       "      <td>8</td>\n",
       "    </tr>\n",
       "    <tr>\n",
       "      <th>4</th>\n",
       "      <td>Quito</td>\n",
       "      <td>Pichincha</td>\n",
       "      <td>D</td>\n",
       "      <td>9</td>\n",
       "    </tr>\n",
       "    <tr>\n",
       "      <th>5</th>\n",
       "      <td>Santo Domingo</td>\n",
       "      <td>Santo Domingo de los Tsachilas</td>\n",
       "      <td>D</td>\n",
       "      <td>4</td>\n",
       "    </tr>\n",
       "  </tbody>\n",
       "</table>\n",
       "</div>"
      ],
      "text/plain": [
       "                    city                           state type  cluster\n",
       "store_nbr                                                             \n",
       "1                  Quito                       Pichincha    D       13\n",
       "2                  Quito                       Pichincha    D       13\n",
       "3                  Quito                       Pichincha    D        8\n",
       "4                  Quito                       Pichincha    D        9\n",
       "5          Santo Domingo  Santo Domingo de los Tsachilas    D        4"
      ]
     },
     "execution_count": 125,
     "metadata": {},
     "output_type": "execute_result"
    }
   ],
   "source": [
    "# see the first few stores\n",
    "store_df.head(5)"
   ]
  },
  {
   "cell_type": "markdown",
   "metadata": {},
   "source": [
    "### city"
   ]
  },
  {
   "cell_type": "code",
   "execution_count": 126,
   "metadata": {},
   "outputs": [
    {
     "name": "stdout",
     "output_type": "stream",
     "text": [
      "There are no cities with the same name in different states: True\n"
     ]
    }
   ],
   "source": [
    "noCityNamesRepeatedInDifferentStates = store_df.groupby('city')['state'].nunique().max() == 1\n",
    "print(\"There are no cities with the same name in different states: %s\" % (noCityNamesRepeatedInDifferentStates))"
   ]
  },
  {
   "cell_type": "code",
   "execution_count": 127,
   "metadata": {},
   "outputs": [
    {
     "name": "stdout",
     "output_type": "stream",
     "text": [
      "number of cities: 22\n"
     ]
    }
   ],
   "source": [
    "print(\"number of cities: %d\" % (store_df.city.nunique()))"
   ]
  },
  {
   "cell_type": "code",
   "execution_count": 134,
   "metadata": {},
   "outputs": [
    {
     "data": {
      "text/plain": [
       "<matplotlib.axes._subplots.AxesSubplot at 0x7f02b81e1dd0>"
      ]
     },
     "execution_count": 134,
     "metadata": {},
     "output_type": "execute_result"
    },
    {
     "data": {
      "image/png": "[encoded data removed]",
      "text/plain": [
       "<matplotlib.figure.Figure at 0x7f02b8dc7450>"
      ]
     },
     "metadata": {},
     "output_type": "display_data"
    }
   ],
   "source": [
    "store_df.city.value_counts().plot.bar(title = \"number of stores in each city\")"
   ]
  },
  {
   "cell_type": "markdown",
   "metadata": {},
   "source": [
    "### state"
   ]
  },
  {
   "cell_type": "code",
   "execution_count": 129,
   "metadata": {},
   "outputs": [
    {
     "name": "stdout",
     "output_type": "stream",
     "text": [
      "number of states: 16\n"
     ]
    }
   ],
   "source": [
    "print(\"number of states: %d\" % (store_df.state.nunique()))"
   ]
  },
  {
   "cell_type": "code",
   "execution_count": 136,
   "metadata": {},
   "outputs": [
    {
     "data": {
      "text/plain": [
       "<matplotlib.axes._subplots.AxesSubplot at 0x7f02b81bf710>"
      ]
     },
     "execution_count": 136,
     "metadata": {},
     "output_type": "execute_result"
    },
    {
     "data": {
      "image/png": "[encoded data removed]",
      "text/plain": [
       "<matplotlib.figure.Figure at 0x7f02b88fc8d0>"
      ]
     },
     "metadata": {},
     "output_type": "display_data"
    }
   ],
   "source": [
    "store_df.state.value_counts().plot.bar(title = \"number of stores in each state\")"
   ]
  },
  {
   "cell_type": "markdown",
   "metadata": {},
   "source": [
    "### state / city interactions"
   ]
  },
  {
   "cell_type": "code",
   "execution_count": 145,
   "metadata": {},
   "outputs": [
    {
     "data": {
      "text/plain": [
       "<matplotlib.axes._subplots.AxesSubplot at 0x7f02b7a13650>"
      ]
     },
     "execution_count": 145,
     "metadata": {},
     "output_type": "execute_result"
    },
    {
     "data": {
      "image/png": "[encoded data removed]",
      "text/plain": [
       "<matplotlib.figure.Figure at 0x7f02b7965250>"
      ]
     },
     "metadata": {},
     "output_type": "display_data"
    }
   ],
   "source": [
    "store_df.groupby('state').city.nunique().plot.bar(title = \"number of different cities per state\")"
   ]
  },
  {
   "cell_type": "code",
   "execution_count": 152,
   "metadata": {
    "scrolled": false
   },
   "outputs": [
    {
     "name": "stdout",
     "output_type": "stream",
     "text": [
      "Number of stores per (state, city):\n",
      "state                           city         \n",
      "Azuay                           Cuenca            3\n",
      "Bolivar                         Guaranda          1\n",
      "Chimborazo                      Riobamba          1\n",
      "Cotopaxi                        Latacunga         2\n",
      "El Oro                          Machala           2\n",
      "Esmeraldas                      Esmeraldas        1\n",
      "Guayas                          Daule             1\n",
      "                                Guayaquil         8\n",
      "                                Libertad          1\n",
      "                                Playas            1\n",
      "Imbabura                        Ibarra            1\n",
      "Loja                            Loja              1\n",
      "Los Rios                        Babahoyo          1\n",
      "                                Quevedo           1\n",
      "Manabi                          El Carmen         1\n",
      "                                Manta             2\n",
      "Pastaza                         Puyo              1\n",
      "Pichincha                       Cayambe           1\n",
      "                                Quito            18\n",
      "Santa Elena                     Salinas           1\n",
      "Santo Domingo de los Tsachilas  Santo Domingo     3\n",
      "Tungurahua                      Ambato            2\n",
      "dtype: int64\n"
     ]
    }
   ],
   "source": [
    "print(\"Number of stores per (state, city):\\n%s\" % (store_df.groupby(['state', 'city']).size()))"
   ]
  },
  {
   "cell_type": "markdown",
   "metadata": {},
   "source": [
    "### type"
   ]
  },
  {
   "cell_type": "code",
   "execution_count": 153,
   "metadata": {},
   "outputs": [
    {
     "name": "stdout",
     "output_type": "stream",
     "text": [
      "Number of different types: 5\n"
     ]
    }
   ],
   "source": [
    "print(\"Number of different types: %d\" % (store_df.type.nunique()))"
   ]
  },
  {
   "cell_type": "code",
   "execution_count": 154,
   "metadata": {},
   "outputs": [
    {
     "data": {
      "text/plain": [
       "<matplotlib.axes._subplots.AxesSubplot at 0x7f02b6ffba10>"
      ]
     },
     "execution_count": 154,
     "metadata": {},
     "output_type": "execute_result"
    },
    {
     "data": {
      "image/png": "[encoded data removed]",
      "text/plain": [
       "<matplotlib.figure.Figure at 0x7f02b703ce10>"
      ]
     },
     "metadata": {},
     "output_type": "display_data"
    }
   ],
   "source": [
    "store_df.type.value_counts().plot.bar(title = \"number of stores per store type\")"
   ]
  },
  {
   "cell_type": "markdown",
   "metadata": {},
   "source": [
    "### type / (city/state) interactions"
   ]
  },
  {
   "cell_type": "code",
   "execution_count": 158,
   "metadata": {},
   "outputs": [
    {
     "data": {
      "text/plain": [
       "<matplotlib.axes._subplots.AxesSubplot at 0x7f02b6794dd0>"
      ]
     },
     "execution_count": 158,
     "metadata": {},
     "output_type": "execute_result"
    },
    {
     "data": {
      "image/png": "[encoded data removed]",
      "text/plain": [
       "<matplotlib.figure.Figure at 0x7f02b67b1c50>"
      ]
     },
     "metadata": {},
     "output_type": "display_data"
    }
   ],
   "source": [
    "store_df.groupby(['state', 'type']).size().unstack().plot.bar(stacked = True, title = \"Number of stores of each type per state\")"
   ]
  },
  {
   "cell_type": "code",
   "execution_count": 156,
   "metadata": {},
   "outputs": [
    {
     "data": {
      "text/plain": [
       "<matplotlib.axes._subplots.AxesSubplot at 0x7f02b6abb9d0>"
      ]
     },
     "execution_count": 156,
     "metadata": {},
     "output_type": "execute_result"
    },
    {
     "data": {
      "image/png": "[encoded data removed]",
      "text/plain": [
       "<matplotlib.figure.Figure at 0x7f02b70d4890>"
      ]
     },
     "metadata": {},
     "output_type": "display_data"
    }
   ],
   "source": [
    "store_df.groupby('type').state.nunique().plot.bar(title = \"Number of states each store type occurs in\")"
   ]
  },
  {
   "cell_type": "code",
   "execution_count": 157,
   "metadata": {},
   "outputs": [
    {
     "data": {
      "text/plain": [
       "<matplotlib.axes._subplots.AxesSubplot at 0x7f02b6a0bd50>"
      ]
     },
     "execution_count": 157,
     "metadata": {},
     "output_type": "execute_result"
    },
    {
     "data": {
      "image/png": "[encoded data removed]",
      "text/plain": [
       "<matplotlib.figure.Figure at 0x7f02b69a7750>"
      ]
     },
     "metadata": {},
     "output_type": "display_data"
    }
   ],
   "source": [
    "store_df.groupby(['city', 'type']).size().unstack().plot.bar(stacked = True, title = \"Number of stores of each type per city\")"
   ]
  },
  {
   "cell_type": "code",
   "execution_count": 159,
   "metadata": {},
   "outputs": [
    {
     "data": {
      "text/plain": [
       "<matplotlib.axes._subplots.AxesSubplot at 0x7f02b66aab10>"
      ]
     },
     "execution_count": 159,
     "metadata": {},
     "output_type": "execute_result"
    },
    {
     "data": {
      "image/png": "[encoded data removed]",
      "text/plain": [
       "<matplotlib.figure.Figure at 0x7f02b673ec50>"
      ]
     },
     "metadata": {},
     "output_type": "display_data"
    }
   ],
   "source": [
    "store_df.groupby('type').city.nunique().plot.bar(title = \"Number of cities each store type occurs in\")"
   ]
  },
  {
   "cell_type": "markdown",
   "metadata": {},
   "source": [
    "### cluster"
   ]
  },
  {
   "cell_type": "code",
   "execution_count": 161,
   "metadata": {},
   "outputs": [
    {
     "name": "stdout",
     "output_type": "stream",
     "text": [
      "number of different clusters: 17\n"
     ]
    }
   ],
   "source": [
    "print(\"number of different clusters: %d\" % (store_df.cluster.nunique()))"
   ]
  },
  {
   "cell_type": "code",
   "execution_count": 163,
   "metadata": {},
   "outputs": [
    {
     "data": {
      "text/plain": [
       "<matplotlib.axes._subplots.AxesSubplot at 0x7f02b655fed0>"
      ]
     },
     "execution_count": 163,
     "metadata": {},
     "output_type": "execute_result"
    },
    {
     "data": {
      "image/png": "[encoded data removed]",
      "text/plain": [
       "<matplotlib.figure.Figure at 0x7f02b673e910>"
      ]
     },
     "metadata": {},
     "output_type": "display_data"
    }
   ],
   "source": [
    "store_df.cluster.value_counts().plot.bar(title = \"Number of stores per cluster\")"
   ]
  },
  {
   "cell_type": "code",
   "execution_count": 166,
   "metadata": {},
   "outputs": [
    {
     "data": {
      "text/plain": [
       "<matplotlib.axes._subplots.AxesSubplot at 0x7f02b5ea47d0>"
      ]
     },
     "execution_count": 166,
     "metadata": {},
     "output_type": "execute_result"
    },
    {
     "data": {
      "image/png": "[encoded data removed]",
      "text/plain": [
       "<matplotlib.figure.Figure at 0x7f02b60154d0>"
      ]
     },
     "metadata": {},
     "output_type": "display_data"
    }
   ],
   "source": [
    "store_df.groupby(['cluster', 'type']).size().unstack().plot.bar(stacked = True, title = \"type distribution for each cluster\")"
   ]
  },
  {
   "cell_type": "markdown",
   "metadata": {},
   "source": [
    "The above shows us that for the most part, store clusters are sub-categories of store type.  This is only not true for cluster 10, which contains stores of several different types."
   ]
  }
 ],
 "metadata": {
  "kernelspec": {
   "display_name": "Python 2",
   "language": "python",
   "name": "python2"
  },
  "language_info": {
   "codemirror_mode": {
    "name": "ipython",
    "version": 2
   },
   "file_extension": ".py",
   "mimetype": "text/x-python",
   "name": "python",
   "nbconvert_exporter": "python",
   "pygments_lexer": "ipython2",
   "version": "2.7.12"
  }
 },
 "nbformat": 4,
 "nbformat_minor": 1
}
