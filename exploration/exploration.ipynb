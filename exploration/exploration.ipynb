{
 "cells": [
  {
   "cell_type": "code",
   "execution_count": 1,
   "metadata": {
    "_cell_guid": "96aaa4ae-93fa-4e61-9a27-eecce5d9bbbb",
    "_uuid": "ec98359e09136ae9f812915c8c7c1f339f48c01c"
   },
   "outputs": [
    {
     "name": "stdout",
     "output_type": "stream",
     "text": [
      "holidays_events.csv\n",
      "items.csv\n",
      "oil.csv\n",
      "sample_submission.csv\n",
      "stores.csv\n",
      "test.csv\n",
      "test_sample.csv\n",
      "train.csv\n",
      "train_sample.csv\n",
      "transactions.csv\n",
      "\n"
     ]
    }
   ],
   "source": [
    "# This Python 3 environment comes with many helpful analytics libraries installed\n",
    "# It is defined by the kaggle/python docker image: https://github.com/kaggle/docker-python\n",
    "# For example, here's several helpful packages to load in \n",
    "%matplotlib inline\n",
    "\n",
    "import numpy as np # linear algebra\n",
    "import pandas as pd # data processing, CSV file I/O (e.g. pd.read_csv)\n",
    "import matplotlib.pyplot as plt\n",
    "import math\n",
    "\n",
    "# Input data files are available in the \"../input/\" directory.\n",
    "# For example, running this (by clicking run or pressing Shift+Enter) will list the files in the input directory\n",
    "\n",
    "from subprocess import check_output\n",
    "print(check_output(\"ls ../input\", shell = True).decode(\"utf8\"))\n",
    "\n",
    "# Any results you write to the current directory are saved as output."
   ]
  },
  {
   "cell_type": "markdown",
   "metadata": {},
   "source": [
    "# train.csv"
   ]
  },
  {
   "cell_type": "code",
   "execution_count": 2,
   "metadata": {},
   "outputs": [
    {
     "name": "stderr",
     "output_type": "stream",
     "text": [
      "/usr/local/lib/python2.7/dist-packages/IPython/core/interactiveshell.py:2718: DtypeWarning: Columns (5) have mixed types. Specify dtype option on import or set low_memory=False.\n",
      "  interactivity=interactivity, compiler=compiler, result=result)\n"
     ]
    },
    {
     "name": "stdout",
     "output_type": "stream",
     "text": [
      "Index([u'date', u'store_nbr', u'item_nbr', u'unit_sales', u'onpromotion'], dtype='object')\n",
      "date           datetime64[ns]\n",
      "store_nbr               int64\n",
      "item_nbr                int64\n",
      "unit_sales            float64\n",
      "onpromotion            object\n",
      "dtype: object\n"
     ]
    },
    {
     "name": "stderr",
     "output_type": "stream",
     "text": [
      "/usr/local/lib/python2.7/dist-packages/numpy/lib/arraysetops.py:463: FutureWarning: elementwise comparison failed; returning scalar instead, but in the future will perform elementwise comparison\n",
      "  mask |= (ar1 == a)\n"
     ]
    }
   ],
   "source": [
    "# load in the training data\n",
    "# the number of rows (approximately) that should be loaded.  Set this negative to get all the data\n",
    "numDesiredRows = 1000000\n",
    "\n",
    "if numDesiredRows < 0:\n",
    "    skiprows = 0\n",
    "else:\n",
    "    step = math.ceil(125000000. / numDesiredRows)\n",
    "    skiprows = lambda x: x != 0 and x % step != 0\n",
    "\n",
    "train_df = pd.read_csv('../input/train.csv', header = 0, index_col = 'id', \n",
    "                       parse_dates = ['date'], dtype = {'onpromotion': bool}, skiprows = skiprows)\n",
    "print(train_df.columns)\n",
    "print(train_df.dtypes)"
   ]
  },
  {
   "cell_type": "code",
   "execution_count": 3,
   "metadata": {},
   "outputs": [
    {
     "data": {
      "text/html": [
       "<div>\n",
       "<style scoped>\n",
       "    .dataframe tbody tr th:only-of-type {\n",
       "        vertical-align: middle;\n",
       "    }\n",
       "\n",
       "    .dataframe tbody tr th {\n",
       "        vertical-align: top;\n",
       "    }\n",
       "\n",
       "    .dataframe thead th {\n",
       "        text-align: right;\n",
       "    }\n",
       "</style>\n",
       "<table border=\"1\" class=\"dataframe\">\n",
       "  <thead>\n",
       "    <tr style=\"text-align: right;\">\n",
       "      <th></th>\n",
       "      <th>date</th>\n",
       "      <th>store_nbr</th>\n",
       "      <th>item_nbr</th>\n",
       "      <th>unit_sales</th>\n",
       "      <th>onpromotion</th>\n",
       "    </tr>\n",
       "    <tr>\n",
       "      <th>id</th>\n",
       "      <th></th>\n",
       "      <th></th>\n",
       "      <th></th>\n",
       "      <th></th>\n",
       "      <th></th>\n",
       "    </tr>\n",
       "  </thead>\n",
       "  <tbody>\n",
       "    <tr>\n",
       "      <th>124</th>\n",
       "      <td>2013-01-01</td>\n",
       "      <td>25</td>\n",
       "      <td>315322</td>\n",
       "      <td>1.0</td>\n",
       "      <td>NaN</td>\n",
       "    </tr>\n",
       "    <tr>\n",
       "      <th>249</th>\n",
       "      <td>2013-01-01</td>\n",
       "      <td>25</td>\n",
       "      <td>564533</td>\n",
       "      <td>1.0</td>\n",
       "      <td>NaN</td>\n",
       "    </tr>\n",
       "    <tr>\n",
       "      <th>374</th>\n",
       "      <td>2013-01-01</td>\n",
       "      <td>25</td>\n",
       "      <td>809183</td>\n",
       "      <td>1.0</td>\n",
       "      <td>NaN</td>\n",
       "    </tr>\n",
       "    <tr>\n",
       "      <th>499</th>\n",
       "      <td>2013-01-01</td>\n",
       "      <td>25</td>\n",
       "      <td>1004550</td>\n",
       "      <td>32.0</td>\n",
       "      <td>NaN</td>\n",
       "    </tr>\n",
       "    <tr>\n",
       "      <th>624</th>\n",
       "      <td>2013-01-02</td>\n",
       "      <td>1</td>\n",
       "      <td>127534</td>\n",
       "      <td>4.0</td>\n",
       "      <td>NaN</td>\n",
       "    </tr>\n",
       "  </tbody>\n",
       "</table>\n",
       "</div>"
      ],
      "text/plain": [
       "          date  store_nbr  item_nbr  unit_sales onpromotion\n",
       "id                                                         \n",
       "124 2013-01-01         25    315322         1.0         NaN\n",
       "249 2013-01-01         25    564533         1.0         NaN\n",
       "374 2013-01-01         25    809183         1.0         NaN\n",
       "499 2013-01-01         25   1004550        32.0         NaN\n",
       "624 2013-01-02          1    127534         4.0         NaN"
      ]
     },
     "execution_count": 3,
     "metadata": {},
     "output_type": "execute_result"
    }
   ],
   "source": [
    "# Take a look at the first few rows\n",
    "train_df.head(5)"
   ]
  },
  {
   "cell_type": "code",
   "execution_count": 4,
   "metadata": {},
   "outputs": [
    {
     "data": {
      "text/plain": [
       "1003976"
      ]
     },
     "execution_count": 4,
     "metadata": {},
     "output_type": "execute_result"
    }
   ],
   "source": [
    "# get the number of training examples\n",
    "len(train_df)"
   ]
  },
  {
   "cell_type": "code",
   "execution_count": 5,
   "metadata": {},
   "outputs": [
    {
     "data": {
      "text/plain": [
       "count    1.003976e+06\n",
       "mean     8.562639e+00\n",
       "std      2.033525e+01\n",
       "min     -5.500000e+01\n",
       "25%      2.000000e+00\n",
       "50%      4.000000e+00\n",
       "75%      9.000000e+00\n",
       "max      4.809000e+03\n",
       "Name: unit_sales, dtype: float64"
      ]
     },
     "execution_count": 5,
     "metadata": {},
     "output_type": "execute_result"
    }
   ],
   "source": [
    "# get some basic summary stats for the number of sales\n",
    "train_df['unit_sales'].describe()"
   ]
  },
  {
   "cell_type": "code",
   "execution_count": 6,
   "metadata": {},
   "outputs": [
    {
     "data": {
      "text/plain": [
       "51"
      ]
     },
     "execution_count": 6,
     "metadata": {},
     "output_type": "execute_result"
    }
   ],
   "source": [
    "# we're told a negative unit_sales means items were returned.  Check how often that occurs\n",
    "len(train_df[train_df.unit_sales < 0])"
   ]
  },
  {
   "cell_type": "code",
   "execution_count": 7,
   "metadata": {},
   "outputs": [
    {
     "data": {
      "text/plain": [
       "<matplotlib.axes._subplots.AxesSubplot at 0x7f02c05bd690>"
      ]
     },
     "execution_count": 7,
     "metadata": {},
     "output_type": "execute_result"
    },
    {
     "data": {
      "image/png": "[encoded data removed]",
      "text/plain": [
       "<matplotlib.figure.Figure at 0x7f02c07fd610>"
      ]
     },
     "metadata": {},
     "output_type": "display_data"
    }
   ],
   "source": [
    "# get the number of buy events by date\n",
    "train_df['date'].value_counts().plot()"
   ]
  },
  {
   "cell_type": "code",
   "execution_count": 8,
   "metadata": {
    "scrolled": true
   },
   "outputs": [
    {
     "data": {
      "text/plain": [
       "44    28131\n",
       "45    27883\n",
       "47    27654\n",
       "3     27218\n",
       "46    26810\n",
       "49    26723\n",
       "8     26086\n",
       "48    25916\n",
       "50    25534\n",
       "6     24709\n",
       "2     23906\n",
       "51    23671\n",
       "7     23377\n",
       "37    22645\n",
       "4     22633\n",
       "9     22180\n",
       "24    22163\n",
       "38    21827\n",
       "5     21354\n",
       "39    21108\n",
       "27    21024\n",
       "11    20504\n",
       "1     20482\n",
       "41    20015\n",
       "28    19371\n",
       "23    18946\n",
       "31    18908\n",
       "34    18381\n",
       "36    17703\n",
       "18    17562\n",
       "17    17312\n",
       "40    16821\n",
       "25    16449\n",
       "33    15725\n",
       "53    15529\n",
       "15    15500\n",
       "43    15495\n",
       "19    15039\n",
       "12    14715\n",
       "16    14562\n",
       "14    14462\n",
       "26    14366\n",
       "10    13952\n",
       "13    13880\n",
       "20    13305\n",
       "54    13193\n",
       "30    12752\n",
       "29    12064\n",
       "42    11720\n",
       "35    11085\n",
       "21    11016\n",
       "32    10911\n",
       "22     7378\n",
       "52     2321\n",
       "Name: store_nbr, dtype: int64"
      ]
     },
     "execution_count": 8,
     "metadata": {},
     "output_type": "execute_result"
    }
   ],
   "source": [
    "#The number of buy events at different stores\n",
    "train_df['store_nbr'].value_counts()"
   ]
  },
  {
   "cell_type": "code",
   "execution_count": 9,
   "metadata": {
    "scrolled": true
   },
   "outputs": [
    {
     "data": {
      "text/plain": [
       "692537     694\n",
       "559870     691\n",
       "162066     687\n",
       "258396     684\n",
       "414750     682\n",
       "273528     681\n",
       "1105212    677\n",
       "839363     672\n",
       "414353     661\n",
       "315176     661\n",
       "567623     660\n",
       "115267     660\n",
       "841842     660\n",
       "850333     659\n",
       "1146795    657\n",
       "265559     655\n",
       "314384     654\n",
       "208384     654\n",
       "1084881    653\n",
       "1047772    653\n",
       "847863     652\n",
       "621300     652\n",
       "502331     651\n",
       "807493     648\n",
       "261053     648\n",
       "265279     647\n",
       "1036689    647\n",
       "938566     646\n",
       "165594     645\n",
       "1047681    645\n",
       "          ... \n",
       "1988467      4\n",
       "2090125      4\n",
       "2089036      4\n",
       "2089250      4\n",
       "2062477      4\n",
       "2087409      3\n",
       "2054300      3\n",
       "2056876      3\n",
       "1939239      3\n",
       "2010082      3\n",
       "2122188      3\n",
       "2088946      3\n",
       "2035576      3\n",
       "2089224      3\n",
       "2011450      2\n",
       "2045493      2\n",
       "2011457      2\n",
       "2008567      1\n",
       "2011448      1\n",
       "1993625      1\n",
       "2123727      1\n",
       "2123775      1\n",
       "2127114      1\n",
       "2120723      1\n",
       "2075374      1\n",
       "2123711      1\n",
       "2122868      1\n",
       "2123750      1\n",
       "2123791      1\n",
       "2011451      1\n",
       "Name: item_nbr, Length: 4006, dtype: int64"
      ]
     },
     "execution_count": 9,
     "metadata": {},
     "output_type": "execute_result"
    }
   ],
   "source": [
    "#The number of buy events at different stores\n",
    "train_df['item_nbr'].value_counts()"
   ]
  },
  {
   "cell_type": "code",
   "execution_count": 10,
   "metadata": {},
   "outputs": [
    {
     "data": {
      "text/plain": [
       "<matplotlib.axes._subplots.AxesSubplot at 0x7f02c0501610>"
      ]
     },
     "execution_count": 10,
     "metadata": {},
     "output_type": "execute_result"
    },
    {
     "data": {
      "image/png": "[encoded data removed]",
      "text/plain": [
       "<matplotlib.figure.Figure at 0x7f02c04d5410>"
      ]
     },
     "metadata": {},
     "output_type": "display_data"
    }
   ],
   "source": [
    "# distribution of the number of items being bought\n",
    "pos_sales = train_df.unit_sales >= 0\n",
    "small_sales = train_df.unit_sales <= 200\n",
    "train_df.unit_sales[pos_sales & small_sales].plot.hist(bins = 50, log=True)"
   ]
  },
  {
   "cell_type": "code",
   "execution_count": 11,
   "metadata": {},
   "outputs": [
    {
     "data": {
      "text/plain": [
       "<matplotlib.axes._subplots.AxesSubplot at 0x7f02c03e4990>"
      ]
     },
     "execution_count": 11,
     "metadata": {},
     "output_type": "execute_result"
    },
    {
     "data": {
      "image/png": "[encoded data removed]",
      "text/plain": [
       "<matplotlib.figure.Figure at 0x7f02c055cf90>"
      ]
     },
     "metadata": {},
     "output_type": "display_data"
    }
   ],
   "source": [
    "# distribution of the number of items being returned\n",
    "train_df[train_df.unit_sales < 0].unit_sales.apply(lambda x: -x).plot.hist(bins = 50, log = True)"
   ]
  },
  {
   "cell_type": "code",
   "execution_count": 15,
   "metadata": {},
   "outputs": [
    {
     "name": "stdout",
     "output_type": "stream",
     "text": [
      "num NA onpromotion: 173261\n",
      "num onpromotion: 62717\n",
      "num not onpromotion: 767998\n",
      "total: 1003976\n"
     ]
    }
   ],
   "source": [
    "# check how many of the onpromotion values are missing, how many are true, and how many are false\n",
    "naOnPromotions = train_df[pd.isna(train_df.onpromotion)]\n",
    "onPromotions = train_df[train_df.onpromotion == True]\n",
    "notOnPromotions = train_df[train_df.onpromotion == False]\n",
    "print(\"num NA onpromotion: %d\\nnum onpromotion: %d\\nnum not onpromotion: %d\\ntotal: %d\" % \n",
    "              (len(naOnPromotions), len(onPromotions), len(notOnPromotions), len(train_df)))"
   ]
  },
  {
   "cell_type": "markdown",
   "metadata": {},
   "source": [
    "Based on the counts above, as well as just common sense, it seems like missing onpromotion values should probably be filled in as being False"
   ]
  },
  {
   "cell_type": "markdown",
   "metadata": {},
   "source": [
    "# oil.csv"
   ]
  },
  {
   "cell_type": "code",
   "execution_count": 16,
   "metadata": {},
   "outputs": [
    {
     "name": "stdout",
     "output_type": "stream",
     "text": [
      "Index([u'price'], dtype='object')\n",
      "price    float64\n",
      "dtype: object\n"
     ]
    }
   ],
   "source": [
    "# load in the oil data\n",
    "oil_df = pd.read_csv('../input/oil.csv', header = 0 , index_col = 'date', \n",
    "                     parse_dates = ['date'], names = ['date', 'price'], dtype = {'price': np.dtype('float64')})\n",
    "print(oil_df.columns)\n",
    "print(oil_df.dtypes)"
   ]
  },
  {
   "cell_type": "code",
   "execution_count": 17,
   "metadata": {},
   "outputs": [
    {
     "data": {
      "text/html": [
       "<div>\n",
       "<style scoped>\n",
       "    .dataframe tbody tr th:only-of-type {\n",
       "        vertical-align: middle;\n",
       "    }\n",
       "\n",
       "    .dataframe tbody tr th {\n",
       "        vertical-align: top;\n",
       "    }\n",
       "\n",
       "    .dataframe thead th {\n",
       "        text-align: right;\n",
       "    }\n",
       "</style>\n",
       "<table border=\"1\" class=\"dataframe\">\n",
       "  <thead>\n",
       "    <tr style=\"text-align: right;\">\n",
       "      <th></th>\n",
       "      <th>price</th>\n",
       "    </tr>\n",
       "    <tr>\n",
       "      <th>date</th>\n",
       "      <th></th>\n",
       "    </tr>\n",
       "  </thead>\n",
       "  <tbody>\n",
       "    <tr>\n",
       "      <th>2013-01-01</th>\n",
       "      <td>NaN</td>\n",
       "    </tr>\n",
       "    <tr>\n",
       "      <th>2013-01-02</th>\n",
       "      <td>93.14</td>\n",
       "    </tr>\n",
       "    <tr>\n",
       "      <th>2013-01-03</th>\n",
       "      <td>92.97</td>\n",
       "    </tr>\n",
       "    <tr>\n",
       "      <th>2013-01-04</th>\n",
       "      <td>93.12</td>\n",
       "    </tr>\n",
       "    <tr>\n",
       "      <th>2013-01-07</th>\n",
       "      <td>93.20</td>\n",
       "    </tr>\n",
       "  </tbody>\n",
       "</table>\n",
       "</div>"
      ],
      "text/plain": [
       "            price\n",
       "date             \n",
       "2013-01-01    NaN\n",
       "2013-01-02  93.14\n",
       "2013-01-03  92.97\n",
       "2013-01-04  93.12\n",
       "2013-01-07  93.20"
      ]
     },
     "execution_count": 17,
     "metadata": {},
     "output_type": "execute_result"
    }
   ],
   "source": [
    "# examine the first few rows\n",
    "oil_df.head(5)"
   ]
  },
  {
   "cell_type": "code",
   "execution_count": 18,
   "metadata": {},
   "outputs": [
    {
     "data": {
      "text/html": [
       "<div>\n",
       "<style scoped>\n",
       "    .dataframe tbody tr th:only-of-type {\n",
       "        vertical-align: middle;\n",
       "    }\n",
       "\n",
       "    .dataframe tbody tr th {\n",
       "        vertical-align: top;\n",
       "    }\n",
       "\n",
       "    .dataframe thead th {\n",
       "        text-align: right;\n",
       "    }\n",
       "</style>\n",
       "<table border=\"1\" class=\"dataframe\">\n",
       "  <thead>\n",
       "    <tr style=\"text-align: right;\">\n",
       "      <th></th>\n",
       "      <th>price</th>\n",
       "    </tr>\n",
       "  </thead>\n",
       "  <tbody>\n",
       "    <tr>\n",
       "      <th>count</th>\n",
       "      <td>1175.000000</td>\n",
       "    </tr>\n",
       "    <tr>\n",
       "      <th>mean</th>\n",
       "      <td>67.714366</td>\n",
       "    </tr>\n",
       "    <tr>\n",
       "      <th>std</th>\n",
       "      <td>25.630476</td>\n",
       "    </tr>\n",
       "    <tr>\n",
       "      <th>min</th>\n",
       "      <td>26.190000</td>\n",
       "    </tr>\n",
       "    <tr>\n",
       "      <th>25%</th>\n",
       "      <td>46.405000</td>\n",
       "    </tr>\n",
       "    <tr>\n",
       "      <th>50%</th>\n",
       "      <td>53.190000</td>\n",
       "    </tr>\n",
       "    <tr>\n",
       "      <th>75%</th>\n",
       "      <td>95.660000</td>\n",
       "    </tr>\n",
       "    <tr>\n",
       "      <th>max</th>\n",
       "      <td>110.620000</td>\n",
       "    </tr>\n",
       "  </tbody>\n",
       "</table>\n",
       "</div>"
      ],
      "text/plain": [
       "             price\n",
       "count  1175.000000\n",
       "mean     67.714366\n",
       "std      25.630476\n",
       "min      26.190000\n",
       "25%      46.405000\n",
       "50%      53.190000\n",
       "75%      95.660000\n",
       "max     110.620000"
      ]
     },
     "execution_count": 18,
     "metadata": {},
     "output_type": "execute_result"
    }
   ],
   "source": [
    "# some basic stats about the oil prices\n",
    "oil_df.describe()"
   ]
  },
  {
   "cell_type": "code",
   "execution_count": 19,
   "metadata": {},
   "outputs": [
    {
     "data": {
      "text/plain": [
       "<matplotlib.axes._subplots.AxesSubplot at 0x7f02b5692790>"
      ]
     },
     "execution_count": 19,
     "metadata": {},
     "output_type": "execute_result"
    },
    {
     "data": {
      "image/png": "[encoded data removed]",
      "text/plain": [
       "<matplotlib.figure.Figure at 0x7f02bda63650>"
      ]
     },
     "metadata": {},
     "output_type": "display_data"
    }
   ],
   "source": [
    "# check the oil price over time graph\n",
    "oil_df.plot()"
   ]
  },
  {
   "cell_type": "code",
   "execution_count": 20,
   "metadata": {},
   "outputs": [
    {
     "name": "stdout",
     "output_type": "stream",
     "text": [
      "w/ oil price: 1175    w/o oil price: 43\n"
     ]
    }
   ],
   "source": [
    "# get the number of dates with oil price and the number without \n",
    "numNA = len(oil_df.price[pd.isna(oil_df.price)])\n",
    "print(\"w/ oil price: %d    w/o oil price: %d\" % (len(oil_df) - numNA, numNA))"
   ]
  },
  {
   "cell_type": "code",
   "execution_count": 21,
   "metadata": {
    "scrolled": true
   },
   "outputs": [
    {
     "name": "stdout",
     "output_type": "stream",
     "text": [
      "[1, 1, 1, 1, 1, 1, 1, 1, 1, 1, 1, 1, 1, 1, 1, 1, 1, 1, 1, 1, 1, 1, 1, 1, 1, 1, 1, 1, 1, 1, 1, 1, 1, 1, 1, 1, 1, 1, 1, 1, 1, 2]\n",
      "43\n"
     ]
    }
   ],
   "source": [
    "# check how long the consecutive runs of missing data are\n",
    "consecMissing = [0]\n",
    "for date in oil_df.index:\n",
    "    if pd.isna(oil_df.price[date]):\n",
    "        consecMissing[-1] += 1\n",
    "    elif consecMissing[-1] > 0:\n",
    "        consecMissing.append(0)\n",
    "        \n",
    "if consecMissing[-1] == 0:\n",
    "    consecMissing = consecMissing[:-1]\n",
    "        \n",
    "print(consecMissing)\n",
    "print(sum(consecMissing))"
   ]
  },
  {
   "cell_type": "markdown",
   "metadata": {},
   "source": [
    "We see that there is at most two days in a row missing oil prices, so it would probably be fine to simply interpolate the price to get rid of the missing values."
   ]
  }
 ],
 "metadata": {
  "kernelspec": {
   "display_name": "Python 2",
   "language": "python",
   "name": "python2"
  },
  "language_info": {
   "codemirror_mode": {
    "name": "ipython",
    "version": 2
   },
   "file_extension": ".py",
   "mimetype": "text/x-python",
   "name": "python",
   "nbconvert_exporter": "python",
   "pygments_lexer": "ipython2",
   "version": "2.7.12"
  }
 },
 "nbformat": 4,
 "nbformat_minor": 1
}
